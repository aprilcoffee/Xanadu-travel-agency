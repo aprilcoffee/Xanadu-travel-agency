{
 "cells": [
  {
   "cell_type": "code",
   "execution_count": 17,
   "metadata": {},
   "outputs": [
    {
     "name": "stdout",
     "output_type": "stream",
     "text": [
      "Requirement already satisfied: umap-learn in /Users/AprilCoffee/opt/anaconda3/envs/tf_cpu/lib/python3.7/site-packages (0.5.4)\n",
      "Requirement already satisfied: numba>=0.51.2 in /Users/AprilCoffee/opt/anaconda3/envs/tf_cpu/lib/python3.7/site-packages (from umap-learn) (0.56.4)\n",
      "Requirement already satisfied: scipy>=1.3.1 in /Users/AprilCoffee/opt/anaconda3/envs/tf_cpu/lib/python3.7/site-packages (from umap-learn) (1.5.2)\n",
      "Requirement already satisfied: scikit-learn>=0.22 in /Users/AprilCoffee/opt/anaconda3/envs/tf_cpu/lib/python3.7/site-packages (from umap-learn) (0.23.2)\n",
      "Requirement already satisfied: numpy>=1.17 in /Users/AprilCoffee/opt/anaconda3/envs/tf_cpu/lib/python3.7/site-packages (from umap-learn) (1.21.6)\n",
      "Requirement already satisfied: pynndescent>=0.5 in /Users/AprilCoffee/opt/anaconda3/envs/tf_cpu/lib/python3.7/site-packages (from umap-learn) (0.5.10)\n",
      "Requirement already satisfied: tqdm in /Users/AprilCoffee/opt/anaconda3/envs/tf_cpu/lib/python3.7/site-packages (from umap-learn) (4.55.1)\n",
      "Requirement already satisfied: tbb>=2019.0 in /Users/AprilCoffee/opt/anaconda3/envs/tf_cpu/lib/python3.7/site-packages (from umap-learn) (2021.10.0)\n",
      "Requirement already satisfied: importlib-metadata in /Users/AprilCoffee/opt/anaconda3/envs/tf_cpu/lib/python3.7/site-packages (from numba>=0.51.2->umap-learn) (6.7.0)\n",
      "Requirement already satisfied: numpy>=1.17 in /Users/AprilCoffee/opt/anaconda3/envs/tf_cpu/lib/python3.7/site-packages (from umap-learn) (1.21.6)\n",
      "Requirement already satisfied: llvmlite<0.40,>=0.39.0dev0 in /Users/AprilCoffee/opt/anaconda3/envs/tf_cpu/lib/python3.7/site-packages (from numba>=0.51.2->umap-learn) (0.39.1)\n",
      "Requirement already satisfied: setuptools in /Users/AprilCoffee/opt/anaconda3/envs/tf_cpu/lib/python3.7/site-packages (from numba>=0.51.2->umap-learn) (51.0.0.post20201207)\n",
      "Requirement already satisfied: zipp>=0.5 in /Users/AprilCoffee/opt/anaconda3/envs/tf_cpu/lib/python3.7/site-packages (from importlib-metadata->numba>=0.51.2->umap-learn) (3.4.0)\n",
      "Requirement already satisfied: typing-extensions>=3.6.4 in /Users/AprilCoffee/opt/anaconda3/envs/tf_cpu/lib/python3.7/site-packages (from importlib-metadata->numba>=0.51.2->umap-learn) (4.5.0)\n",
      "Requirement already satisfied: llvmlite<0.40,>=0.39.0dev0 in /Users/AprilCoffee/opt/anaconda3/envs/tf_cpu/lib/python3.7/site-packages (from numba>=0.51.2->umap-learn) (0.39.1)\n",
      "Requirement already satisfied: numba>=0.51.2 in /Users/AprilCoffee/opt/anaconda3/envs/tf_cpu/lib/python3.7/site-packages (from umap-learn) (0.56.4)\n",
      "Requirement already satisfied: scikit-learn>=0.22 in /Users/AprilCoffee/opt/anaconda3/envs/tf_cpu/lib/python3.7/site-packages (from umap-learn) (0.23.2)\n",
      "Requirement already satisfied: joblib>=0.11 in /Users/AprilCoffee/opt/anaconda3/envs/tf_cpu/lib/python3.7/site-packages (from pynndescent>=0.5->umap-learn) (0.17.0)\n",
      "Requirement already satisfied: scipy>=1.3.1 in /Users/AprilCoffee/opt/anaconda3/envs/tf_cpu/lib/python3.7/site-packages (from umap-learn) (1.5.2)\n",
      "Requirement already satisfied: importlib-metadata in /Users/AprilCoffee/opt/anaconda3/envs/tf_cpu/lib/python3.7/site-packages (from numba>=0.51.2->umap-learn) (6.7.0)\n",
      "Requirement already satisfied: scipy>=1.3.1 in /Users/AprilCoffee/opt/anaconda3/envs/tf_cpu/lib/python3.7/site-packages (from umap-learn) (1.5.2)\n",
      "Requirement already satisfied: threadpoolctl>=2.0.0 in /Users/AprilCoffee/opt/anaconda3/envs/tf_cpu/lib/python3.7/site-packages (from scikit-learn>=0.22->umap-learn) (2.1.0)\n",
      "Requirement already satisfied: joblib>=0.11 in /Users/AprilCoffee/opt/anaconda3/envs/tf_cpu/lib/python3.7/site-packages (from pynndescent>=0.5->umap-learn) (0.17.0)\n",
      "Requirement already satisfied: numpy>=1.17 in /Users/AprilCoffee/opt/anaconda3/envs/tf_cpu/lib/python3.7/site-packages (from umap-learn) (1.21.6)\n",
      "Requirement already satisfied: numpy>=1.17 in /Users/AprilCoffee/opt/anaconda3/envs/tf_cpu/lib/python3.7/site-packages (from umap-learn) (1.21.6)\n"
     ]
    }
   ],
   "source": [
    "#!pip install umap-learn\n",
    "!pip install umap-learn"
   ]
  },
  {
   "cell_type": "code",
   "execution_count": 22,
   "metadata": {},
   "outputs": [],
   "source": [
    "import os\n",
    "os.environ['PROTOCOL_BUFFERS_PYTHON_IMPLEMENTATION'] = 'python'\n",
    "import pickle\n",
    "import numpy as np\n",
    "import umap\n",
    "import matplotlib.pyplot as plt\n",
    "import umap.umap_ as umap"
   ]
  },
  {
   "cell_type": "code",
   "execution_count": 23,
   "metadata": {},
   "outputs": [
    {
     "name": "stdout",
     "output_type": "stream",
     "text": [
      "\u001b[33mWARNING: Package(s) not found: umap\u001b[0m\n"
     ]
    }
   ],
   "source": [
    "!pip show umap"
   ]
  },
  {
   "cell_type": "code",
   "execution_count": 24,
   "metadata": {},
   "outputs": [],
   "source": [
    "filename = 'glove_6B/glove2word2vec_model.sav'\n",
    "with open(filename, 'rb') as file:\n",
    "    model = pickle.load(file)\n",
    "\n",
    "# Extract word vectors from the model\n",
    "word_vectors = model"
   ]
  },
  {
   "cell_type": "code",
   "execution_count": 25,
   "metadata": {},
   "outputs": [
    {
     "name": "stderr",
     "output_type": "stream",
     "text": [
      "/Users/AprilCoffee/opt/anaconda3/envs/tf_cpu/lib/python3.7/site-packages/umap/umap_.py:2434: UserWarning: n_neighbors is larger than the dataset size; truncating to X.shape[0] - 1\n",
      "  \"n_neighbors is larger than the dataset size; truncating to \"\n"
     ]
    }
   ],
   "source": [
    "words_of_interest = [\"beach\", \"ocean\", \"sun\", \"sand\", \"waves\"]\n",
    "\n",
    "# Remove missing words and duplicates from the list\n",
    "unique_words_of_interest = list(set(words_of_interest).intersection(model.key_to_index))\n",
    "\n",
    "# Retrieve the word vectors for the selected words\n",
    "vectors_of_interest = [model[word] for word in words_of_interest if word in model.key_to_index]\n",
    "\n",
    "if not vectors_of_interest:\n",
    "    print(\"No valid word vectors found. Please check your input data.\")\n",
    "else:\n",
    "    reducer = umap.UMAP(n_neighbors=100)\n",
    "    umap_embeddings = reducer.fit_transform(vectors_of_interest)"
   ]
  },
  {
   "cell_type": "code",
   "execution_count": 26,
   "metadata": {},
   "outputs": [],
   "source": [
    "\n",
    "def drawPlt(umap_embeddings, words_of_interest, highlight_words=None):\n",
    "    # Create a scatter plot of the UMAP embeddings\n",
    "    plt.figure(figsize=(10, 8))\n",
    "    \n",
    "    # Initialize colors for all points as blue\n",
    "    point_colors = ['blue'] * len(words_of_interest)\n",
    "    \n",
    "    # Change the color for highlighted words to red\n",
    "    if highlight_words:\n",
    "        for i, word in enumerate(words_of_interest):\n",
    "            if word in highlight_words:\n",
    "                point_colors[i] = 'red'\n",
    "    \n",
    "    # Scatter plot all words with smaller circles and updated colors\n",
    "    plt.scatter(umap_embeddings[:, 0], umap_embeddings[:, 1], marker='.', s=20, c=point_colors, alpha=0.5)\n",
    "    \n",
    "    # Annotate points with words\n",
    "    for i, word in enumerate(words_of_interest):\n",
    "        if i < umap_embeddings.shape[0]:  # Check if the index is within bounds\n",
    "            plt.annotate(word, (umap_embeddings[i, 0], umap_embeddings[i, 1]), fontsize=10)\n",
    "    \n",
    "    plt.title(\"UMAP Visualization of GloVe Word Embeddings\")\n",
    "    plt.xlabel(\"\")\n",
    "    plt.ylabel(\"\")\n",
    "    plt.show()\n"
   ]
  },
  {
   "cell_type": "code",
   "execution_count": 27,
   "metadata": {},
   "outputs": [],
   "source": [
    "from sklearn.metrics.pairwise import cosine_similarity\n",
    "\n",
    "# Choose a target word\n",
    "target_word = \"ocean\"\n",
    "words_of_interest = []\n",
    "words_of_interest.append(target_word)\n",
    "# Ensure the target word is in the vocabulary\n",
    "if target_word in model.key_to_index:\n",
    "    # Get the vector for the target word\n",
    "    target_vector = model[target_word].reshape(1, -1)\n",
    "\n",
    "    # Calculate cosine similarities between the target word and all other words\n",
    "    similarities = cosine_similarity(target_vector, model.vectors)\n",
    "\n",
    "    # Find the top N similar words (excluding the target word itself)\n",
    "    top_n = 200  # Adjust as needed\n",
    "    similar_word_indices = similarities.argsort()[0][-top_n - 1:-1][::-1]\n",
    "\n",
    "    # Get the similar words and their similarity scores\n",
    "    similar_words = [model.index_to_key[i] for i in similar_word_indices]\n",
    "    similarity_scores = [similarities[0][i] for i in similar_word_indices]\n",
    "    words_of_interest.extend(similar_words)\n",
    "\n",
    "    # Print the similar words and their similarity scores\n",
    "    #for word, score in zip(similar_words, similarity_scores):\n",
    "    #    print(f\"{word}: {score:.4f}\")\n",
    "#else:\n",
    "#    print(f\"{target_word} is not in the vocabulary.\")\n"
   ]
  },
  {
   "cell_type": "code",
   "execution_count": 28,
   "metadata": {},
   "outputs": [
    {
     "name": "stderr",
     "output_type": "stream",
     "text": [
      "/Users/AprilCoffee/opt/anaconda3/envs/tf_cpu/lib/python3.7/site-packages/umap/umap_.py:2434: UserWarning: n_neighbors is larger than the dataset size; truncating to X.shape[0] - 1\n",
      "  \"n_neighbors is larger than the dataset size; truncating to \"\n"
     ]
    }
   ],
   "source": [
    "vectors_of_interest = [model[word] for word in words_of_interest if word in model.key_to_index]\n",
    "\n",
    "if not vectors_of_interest:\n",
    "    print(\"No valid word vectors found. Please check your input data.\")\n",
    "else:\n",
    "    reducer = umap.UMAP(n_neighbors=10000)\n",
    "    umap_embeddings = reducer.fit_transform(vectors_of_interest)"
   ]
  },
  {
   "cell_type": "code",
   "execution_count": 29,
   "metadata": {},
   "outputs": [],
   "source": [
    "#drawPlt(umap_embeddings,words_of_interest,target_word)"
   ]
  },
  {
   "cell_type": "code",
   "execution_count": 30,
   "metadata": {},
   "outputs": [],
   "source": [
    "import numpy as np\n",
    "from sklearn.cluster import KMeans\n",
    "from sklearn.preprocessing import normalize\n",
    "\n",
    "# Assuming you have loaded GloVe embeddings and vectors_of_interest\n",
    "# vectors_of_interest is a list of word vectors\n",
    "\n",
    "# Number of clusters (you can adjust this)\n",
    "num_clusters = 20\n",
    "\n",
    "# Normalize the word vectors (important for K-Means)\n",
    "normalized_vectors = normalize(vectors_of_interest)\n",
    "\n",
    "# Initialize and fit K-Means clustering\n",
    "kmeans = KMeans(n_clusters=num_clusters, random_state=42)\n",
    "kmeans.fit(normalized_vectors)\n",
    "\n",
    "# Get the cluster labels for each word vector\n",
    "cluster_labels = kmeans.labels_\n",
    "\n",
    "# Print the words and their respective clusters\n",
    "#for word, cluster in zip(words_of_interest, cluster_labels):\n",
    "#    print(f\"{word}: Cluster {cluster}\")\n",
    "\n",
    "# Analyze and visualize the clusters as needed\n"
   ]
  },
  {
   "cell_type": "code",
   "execution_count": null,
   "metadata": {},
   "outputs": [],
   "source": [
    "import matplotlib.pyplot as plt\n",
    "import umap\n",
    "import numpy as np\n",
    "\n",
    "def drawPlt(umap_embeddings, words_of_interest, target_word, cluster_labels, focus_cluster=None, opacity=0.5, label_opacity=1.0, label_size=12):\n",
    "    # Create a scatter plot of UMAP embeddings\n",
    "    plt.figure(figsize=(12, 8))\n",
    "\n",
    "    # Define unique colors for each cluster\n",
    "    unique_clusters = set(cluster_labels)\n",
    "    colors = plt.cm.viridis(np.linspace(0, 1, len(unique_clusters)))\n",
    "\n",
    "    # Lists to store cluster labels\n",
    "    cluster_label_lists = [[] for _ in range(len(unique_clusters))]\n",
    "\n",
    "    # Plot points in focus cluster with full opacity\n",
    "    for cluster in unique_clusters:\n",
    "        mask = cluster_labels == cluster\n",
    "        if cluster == focus_cluster:\n",
    "            plt.scatter(\n",
    "                umap_embeddings[mask, 0], umap_embeddings[mask, 1],\n",
    "                label=f\"Cluster {cluster}\", color=colors[cluster], alpha=1.0\n",
    "            )\n",
    "            label_alpha = 1.0  # Full opacity for labels of the focus cluster\n",
    "            label_size_cluster = label_size  # Adjust label size for the focus cluster\n",
    "        else:\n",
    "            plt.scatter(\n",
    "                umap_embeddings[mask, 0], umap_embeddings[mask, 1],\n",
    "                color=colors[cluster], alpha=opacity\n",
    "            )\n",
    "            label_alpha = label_opacity  # Adjusted opacity for labels of other clusters\n",
    "            label_size_cluster = 8  # Smaller label size for other clusters\n",
    "\n",
    "        # Annotate points with words and set label opacity and size\n",
    "        for i, word in enumerate(words_of_interest):\n",
    "            if cluster_labels[i] == cluster:\n",
    "                plt.annotate(word, (umap_embeddings[i, 0], umap_embeddings[i, 1]), alpha=label_alpha, fontsize=label_size_cluster)\n",
    "                cluster_label_lists[cluster].append(word)\n",
    "\n",
    "    plt.title(\"UMAP Visualization of GloVe Word Embeddings\")\n",
    "    #plt.xlabel(\"UMAP Dimension 1\")\n",
    "    #plt.ylabel(\"UMAP Dimension 2\")\n",
    "    plt.legend()\n",
    "\n",
    "    \n",
    "    image_folder = \"cluster_images\"\n",
    "    os.makedirs(image_folder, exist_ok=True)\n",
    "    plt.savefig(f\"{image_folder}/cluster_visualization_{focus_cluster}.png\", dpi=300, bbox_inches='tight', format='png')\n",
    "  \n",
    "    # Show the plot\n",
    "    \n",
    "    # Optionally, you can specify the DPI (dots per inch) for resolution, and the format (e.g., PNG, JPEG, SVG)\n",
    "    #plt.savefig('my_high_res_plot.png', dpi=300, format='png')\n",
    "\n",
    "    plt.show()\n",
    "\n",
    "    # Return the cluster label lists\n",
    "    return cluster_label_lists\n",
    "\n",
    "# Prepare to save label data for CSV\n",
    "all_labels = []\n",
    "\n",
    "# Generate and save plots\n",
    "for i in range(20):\n",
    "    cluster_label_lists = drawPlt(umap_embeddings, words_of_interest, target_word, cluster_labels, focus_cluster=i, opacity=0.3, label_opacity=0.5, label_size=14)\n",
    "    \n",
    "    # Collect label data\n",
    "    for cluster, labels in enumerate(cluster_label_lists):\n",
    "        for label in labels:\n",
    "            all_labels.append([cluster, label])\n",
    "\n",
    "# Save the labels to a CSV file\n",
    "csv_file = \"cluster_labels.csv\"\n",
    "with open(csv_file, mode='w', newline='', encoding='utf-8') as file:\n",
    "    writer = csv.writer(file)\n",
    "    writer.writerow([\"Cluster\", \"Label\"])\n",
    "    writer.writerows(all_labels)\n",
    "\n",
    "print(f\"Labels saved to {csv_file}\")"
   ]
  },
  {
   "cell_type": "code",
   "execution_count": 32,
   "metadata": {},
   "outputs": [
    {
     "data": {
      "text/plain": [
       "['northeast',\n",
       " 'southern',\n",
       " 'southwest',\n",
       " 'northwest',\n",
       " 'western',\n",
       " 'northern',\n",
       " 'areas',\n",
       " 'region',\n",
       " 'eastern']"
      ]
     },
     "execution_count": 32,
     "metadata": {},
     "output_type": "execute_result"
    }
   ],
   "source": [
    "cluster_label_lists[0]"
   ]
  },
  {
   "cell_type": "code",
   "execution_count": 104,
   "metadata": {},
   "outputs": [],
   "source": [
    "\n",
    "import openai\n",
    "import api_key\n",
    "# Setting up enviornment\n",
    "from base64 import b64decode\n",
    "from pathlib import Path\n",
    "import os\n",
    "import io\n",
    "import warnings\n",
    "from PIL import Image\n",
    "from stability_sdk import client\n",
    "import stability_sdk.interfaces.gooseai.generation.generation_pb2 as generation\n",
    "\n",
    "\n",
    "os.environ['STABILITY_HOST'] = 'grpc.stability.ai:443'\n",
    "os.environ['STABILITY_KEY'] = api_key.dreamStudio_key()\n",
    "\n",
    "\n",
    "stability_api = client.StabilityInference(\n",
    "    key=os.environ['STABILITY_KEY'], # API Key reference.\n",
    "    verbose=True, # Print debug messages.\n",
    "    engine=\"stable-diffusion-768-v2-1\", # Set the engine to use for generation. \n",
    ")\n",
    "def chatGPT(input_text):\n",
    "\n",
    "    openai.api_key = api_key.openai_key()\n",
    "    response = openai.ChatCompletion.create(\n",
    "            model=\"gpt-3.5-turbo\",\n",
    "            temperature = 1.2,\n",
    "            messages=[\n",
    "                {\"role\": \"system\", \"content\": \n",
    "                '''\n",
    "                you are a stable diffusion prompt generating machine.\n",
    "\n",
    "                Stable Diffusion is an AI art generation model similar to DALLE.\n",
    "                Below is a list of prompts that can be used to generate images with Stable Diffusion:\n",
    "\n",
    "                - design, interrior, interriordesign Masterpiece, (photorealistic:1.4), the best quality, ultra-high res, photorealistic, realistic detailed, poster photograph, sharp focus, realistic landscape photo, shot with iPhone 13 Pro Max, shot with nikon z9 and nikkor z 70-200mm f/2. 8 VR S lens, waterall in the distance, a waterfall in the fall with a bright sky, sunset panorama, colorful digital screens) xf iq4, the glimmering orange dawn, realistic, photorealistic, aerial, drone shot, nature, ambient light, deer, detailed, hyperrealistic, sharp details, lens flare, beauty of nature, best quality, (golden hour lighting), muted colors,16K, 8K, 4K, flora and fauna, the essence of fall, colorful leaves, realistic water, realistic trees, realistic landscape, october, leaves on ground, raining, sunny, A picturesque view of a tranquil forest with leaves transitioning from the lush greens of summer to the golden hues of fall. The sun's rays pierce through the canopy, creating a play of light and shadow, emphasizing the crimson and amber tones, capturing the magic of the changing seasons, japan, tokyo, street, temple, temple gate ,#Portraiture Style-3 + Anamorphic + epic composition + golden-ratio + HDR10 + cinematography + #aweinspiring –v5 –q 2 –c 20” --style raw, HDR, ray tracing, highly detailed, 8k, ((fog)), dramatic, detailed shadows, fantastic realism, volumetric light, hyper detailed, ArtStation hq, (square aspect ratio), <lora:add_detail:0.8>, <lora:Fnaf_Vanny:0.2>\n",
    "                - Spectacular nature landscape, background mountains, river with waterfall, sharp focus, hyper detailed, detail colors, haze, fog, pine trees, depth, soft contrast,  golden hour colors, photo realistic, ultra realistic, cinematic landscape photography, cinematic ligthining\n",
    "                - ghost inside a hunted room, art by lois van baarle and loish and ross tran and rossdraws and sam yang and samdoesarts and artgerm, digital art, highly detailed, intricate, sharp focus, Trending on Artstation HQ, deviantart, unreal engine 5, 4K UHD image\n",
    "                - red dead redemption 2, cinematic view, epic sky, detailed, concept art, low angle, high detail, warm lighting, volumetric, godrays, vivid, beautiful, trending on artstation, by jordan grimmer, huge scene, grass, art greg rutkowski\n",
    "                -The Legend of Zelda landscape  atmospheric, hyper realistic, 8k, epic composition, cinematic, octane render, artstation landscape vista photography by Carr Clifton & Galen Rowell, 16K resolution, Landscape veduta photo by Dustin Lefevre & tdraw, 8k resolution, detailed landscape painting by Ivan Shishkin, DeviantArt, Flickr, rendered  in Enscape, Miyazaki, Nausicaa Ghibli, Breath of The Wild, 4k detailed post processing, artstation, rendering by octane, unreal engine —ar 16:9\n",
    "                -The Lord of The Rings landscape  atmospheric, hyper realistic fantasy, 8k, epic composition, cinematic, octane render, highly detailed,artstation landscape vista painted by Carr Clifton & Galen Rowell, 16K resolution, Landscape veduta photo by Dustin Lefevre & tdraw, 8k resolution, detailed landscape painting by Ivan Shishkin, DeviantArt, Flickr, rendered  in Enscape, Miyazaki, Nausicaa Ghibli, Breath of The Wild, 4k detailed post processing,acrilic mode, artstation, rendering by octane, unreal engine —ar 16:9\n",
    "                -beautiful crystal geode in a cavern, landscape, alex ross, eddie mendoza, raphael lacoste, sebastian ludke, concept art, matte painting, highly detailed, rule of thirds, dynamic lighting, cinematic, realism, realistic, photo real, detailed, magnificiant landscape, denoised, centerd \n",
    "                - ultra realistic illustration of steve urkle as the hulk, intricate, elegant, highly detailed, digital painting, artstation, concept art, smooth, sharp focus, illustration, art by artgerm and greg rutkowski and alphonse mucha\n",
    "                -Landscape photo ultra realistic half bullfrog and half old hag woman with 4 arms in a swamp, dark fantasy, dead trees protrude from water dark castle in the far background, dramatic light, pale sunrise, cinematic lighting, battered, low angle, trending on artstation, 4k, hyper realistic, focused, extreme details, unreal engine 5, cinematic, masterpiece, art by studio ghibli, intricate artwork by john william turner\n",
    "                – alberto seveso and geo2099 style, A highly detailed and hyper realistic portrait of a gorgeous young ana de armas, lisa frank, trending on artstation, butterflies, floral, sharp focus, studio photo, intricate details, highly detailed, by Tvera and wlop and artgerm\n",
    "\n",
    "\n",
    "                taking this as example\n",
    "                \"Spectacular nature landscape, background mountains, river with waterfall, sharp focus, hyper detailed, detail colors, haze, fog, pine trees, depth, soft contrast,  golden hour colors, photo realistic, ultra realistic, cinematic landscape photography, cinematic ligthining\"\n",
    "\n",
    "                short description of the scene is :Spectacular nature landscape, background mountains, river with waterfall\" \n",
    "                and followed by modifiers: sharp focus, hyper detailed, detail colors, haze, fog, pine trees, depth, soft contrast,  golden hour colors, photo realistic, ultra realistic, cinematic landscape photography, cinematic ligthining\n",
    "\n",
    "\n",
    "                I want you to write me a prompt exactly about the idea written after IDEA. \n",
    "                Following the structure of the example prompts. \n",
    "                This means a very SHORT description of the scene, \n",
    "                and then followed by modifiers of single words divided by commas to alter the mood, style, lighting, and more.\n",
    "\n",
    "               '''\n",
    "                },\n",
    "\n",
    "                {\"role\": \"user\", \"content\": \" A photorealistic, Spectacular nature landscape, highly detailed, photo-postcard of the coast, including mountain, landscape, river, waterfall \"},\n",
    "                {\"role\": \"assistant\", \"content\":\"Spectacular nature landscape, background mountains, river with waterfall, sharp focus, hyper detailed, detail colors, haze, fog, pine trees, depth, soft contrast,  golden hour colors, photo realistic, ultra realistic, cinematic landscape photography, cinematic ligthining\"},\n",
    "                {\"role\": \"user\", \"content\": \n",
    "             '''IDEA: A photorealistic,  tourism, nature landscape, highly detailed, photo-postcard of the coast photo realistic, ultra realistic, cinematic landscape photography,''' + input_text +\"NO CANVAS\"}\n",
    "            ]\n",
    "    )\n",
    "    print(response['choices'][0]['message']['content'])\n",
    "    output = response['choices'][0]['message']['content']\n",
    "    return output\n",
    "    #os.system(\"say -v anna '\"+output+\"'\") \n",
    "    #os.system(\"say '\"+output+\"'\") \n",
    "\n",
    "def stability_generate(_number,input_prompt):\n",
    "    # Set up our connection to the API.\n",
    "    # select the engine using. (possible for stable diffusion 2)\n",
    "\n",
    "    # Set up our initial generation parameters.\n",
    "    answers = stability_api.generate(\n",
    "        prompt=input_prompt,\n",
    "        steps=100, # Amount of inference steps performed on image generation. Defaults to 30. \n",
    "        cfg_scale=8.0, # Influences how strongly your generation is guided to match your prompt.\n",
    "                       # Setting this value higher increases the strength in which it tries to match your prompt.\n",
    "                       # Defaults to 7.0 if not specified.\n",
    "        width=1024, # Generation width, defaults to 512 if not included.\n",
    "        height=768, # Generation height, defaults to 512 if not included.\n",
    "    )\n",
    "\n",
    "    IMAGE_DIR = Path.cwd() / \"StableDiffusion_images\"\n",
    "    IMAGE_DIR.mkdir(parents=True, exist_ok=True)\n",
    "\n",
    "    fileName = str(_number) + \"image.png\"\n",
    "    for resp in answers:\n",
    "        for artifact in resp.artifacts:\n",
    "            if artifact.type == generation.ARTIFACT_IMAGE:\n",
    "                image_file = IMAGE_DIR / fileName\n",
    "                img = Image.open(io.BytesIO(artifact.binary))\n",
    "                img.save(image_file) # Save our generated images with their seed number as the filename.\n",
    "\n"
   ]
  },
  {
   "cell_type": "code",
   "execution_count": null,
   "metadata": {},
   "outputs": [
    {
     "name": "stdout",
     "output_type": "stream",
     "text": [
      "A breathtaking coastal landscape, capturing the pristine beauty of nature in a photorealistic masterpiece. Revel in the rich detail of this postcard-worthy scene, featuring majestic mountains, a tranquil river flowing into a cascading waterfall, and a mesmerizing interplay of hues. Be captivated by the sense of depth rendered with precision, as mist and fog add an ethereal touch, creating an immersive experience. Let the soft contrasts and golden hour colors transport you to this coastal haven that boasts the perfect balance between serenity and awe-inspiring grandeur. Through ultra-realistic rendering and cinematic landscape photography techniques, this artwork invites you on a visual journey, offering glimpses of enchanting regions encompassing the northeast, southern, southwest, northwest, western, northern, and eastern areas. Immerse yourself in this immersive masterpiece, where nature's wonders come to life without any boundaries.\n",
      "Capture the mesmerizing beauty of nature along the coast in this photorealistic rendering. The highly detailed scenery features a stunning landscape with majestic mountains, a meandering river, and an enchanting waterfall. Immerse yourself in the tranquility as you observe the subtle interplay of soft lights and shadows, creating a cinematic ambiance. Adding to the allure, various boats gracefully sail through the water, including fishing vessels, sailing ships, and even a majestic yacht. Enjoy the realism of this picturesque photo-postcard, which transports you to a moment of pure serenity and captures the essence of a coastal voyage.\n",
      "A photorealistic postcard of a breathtaking coastal landscape. Immerse yourself in the beauty of nature at its finest. Witness the stunning views of the ocean, sea, and the pristine waters that meet the picturesque coast. Whether it's the vastness of the Atlantic or the majesty of the Pacific, every coastal scene offers a unique charm. Explore the coastal wonders of the Mediterranean or get lost amidst the allure of exotic islands. From the serene charm of inland coastlines to the vibrant energy of the Caribbean, each destination has a distinct character. Marvel at the tranquil harbors, mystical gulfs, and captivating capes. Relax on sun-kissed beaches, wander amidst archipelagos, and embrace the allure of offshore marine life. Discover the harmony of maritime landscapes blending with the awe-inspiring beauty of deserts. Lose yourself in the charm of picturesque harbors and wander freely on enchanting peninsulas. Admire the natural beauty of bays and experience bliss in the idyllic setting of Hawaii. Uncover the secrets of enchanting ports and revel in the magnificence of an exquisite coastline. Allow this postcard to transport you to the fascinating world of coastal serenity.\n",
      "Capture the awe-inspiring beauty of a tourism-worthy nature landscape on a coast. With photorealistic precision, craft a picture-perfect postcard featuring a highly detailed scene that showcases the magnificence of Earth's surface meeting the horizon. Delve into a cinematic exploration of our planet, indulging in photo-realistic splendor that transcends the ordinary. Transport your audience to a realm of discovery, where mountains meet rivers and waterfalls cascade gracefully. Embrace the infinite sky, reminiscent of the vastness of space. Balancing on the outer edges of paradise, an ethereal atmosphere surrounds stunning rock formations. Experience the elegance of our planet's equator, allowing a pictorial journey into the unknown. Remember, no canvas can confine the boundless beauty that awaits.\n",
      "A photorealistic photo-postcard of a breathtaking coastal landscape. The scene captures the stunning beauty of nature with its highly detailed depiction of coastal basins, serene lakes, meandering rivers, and intricate waterways. The photo highlights the charm of estuaries, inlets, and freshwater basins, all exhibiting a sense of stillness and tranquility. The realistic and ultra-realistic aesthetics enhance the cinematic quality of this landscape photography, immersing the viewer in the wonders of this picturesque setting. The absence of canvas lends a distinct touch to the composition, making it an authentic and captivating representation of the coastal environment.\n",
      "A breathtaking photorealistic postcard of a mesmerizing coastline featuring a stunning combination of turquoise waters, majestic mountains, and cascading waterfalls. This highly detailed scene captures the essence of a tranquil paradise. The photo invites you to immerse yourself in its beauty, with the underwater world unveiling vibrant coral reefs and diverse marine life. The atmosphere is imbued with an awe-inspiring sense of geological wonders, where seismic activity and volcanic formations add a touch of dramatic depth to the landscape. This cinematic masterpiece of nature offers an extraordinary visual experience that transports you to a place of serenity and natural marvels. No canvas can truly capture the grandeur of this pristine coastal gem.\n",
      "A breathtaking photo-postcard of a photorealistic coastal landscape. The scene showcases the stunning beauty of nature with highly detailed elements. From the majestic mountains in the background to the tranquil river flowing gently towards the cascading waterfall, every detail is captured with precision. The colors are vibrant, capturing the essence of the golden hour and creating a cinematic atmosphere. The view extends to the vast seas and oceans, revealing their depths and invoking a sense of awe. This tourism-focused postcard transports you to a continental paradise, where the beauty of the oceanic landscapes meets the allure of the coast. The canvas of this landscape has no limits, inviting you to explore the wonders of the natural world.\n"
     ]
    }
   ],
   "source": [
    "for i in range(20):\n",
    "    input_text = ','.join(cluster_label_lists[i])\n",
    "    stability_generate(i,chatGPT(input_text))"
   ]
  },
  {
   "cell_type": "code",
   "execution_count": null,
   "metadata": {},
   "outputs": [],
   "source": []
  },
  {
   "cell_type": "code",
   "execution_count": null,
   "metadata": {},
   "outputs": [],
   "source": []
  }
 ],
 "metadata": {
  "kernelspec": {
   "display_name": "Python 3",
   "language": "python",
   "name": "python3"
  },
  "language_info": {
   "codemirror_mode": {
    "name": "ipython",
    "version": 3
   },
   "file_extension": ".py",
   "mimetype": "text/x-python",
   "name": "python",
   "nbconvert_exporter": "python",
   "pygments_lexer": "ipython3",
   "version": "3.7.9"
  }
 },
 "nbformat": 4,
 "nbformat_minor": 4
}
